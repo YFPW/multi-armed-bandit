{
 "cells": [
  {
   "cell_type": "markdown",
   "metadata": {
    "colab_type": "text",
    "id": "QP4dBqTtpUfJ"
   },
   "source": [
    "# COMP90051 Project 2"
   ]
  },
  {
   "cell_type": "code",
   "execution_count": 1,
   "metadata": {
    "colab": {},
    "colab_type": "code",
    "id": "cM3cxPZCpUfK"
   },
   "outputs": [],
   "source": [
    "# Do not edit. These are the only imports permitted.\n",
    "%matplotlib inline\n",
    "import numpy as np\n",
    "from numpy.linalg import inv\n",
    "import matplotlib.pyplot as plt\n",
    "from abc import ABC, abstractmethod"
   ]
  },
  {
   "cell_type": "markdown",
   "metadata": {
    "colab_type": "text",
    "id": "SRbu5fZKpUfN"
   },
   "source": [
    "## 1. Implementing ε-Greedy and UCB"
   ]
  },
  {
   "cell_type": "code",
   "execution_count": 2,
   "metadata": {
    "colab": {},
    "colab_type": "code",
    "id": "W0ePp6bXpUfO"
   },
   "outputs": [],
   "source": [
    "class MAB(ABC):\n",
    "    \"\"\"\n",
    "    Abstract class that represents a multi-armed bandit (MAB)\n",
    "    \"\"\"\n",
    "    \n",
    "    @abstractmethod\n",
    "    def play(self, tround, context):\n",
    "        \"\"\"\n",
    "        Play a round\n",
    "        \n",
    "        Arguments\n",
    "        =========\n",
    "        tround : int\n",
    "            positive integer identifying the round\n",
    "        \n",
    "        context : 1D float array, shape (self.ndims * self.narms), optional\n",
    "            context given to the arms\n",
    "        \n",
    "        Returns\n",
    "        =======\n",
    "        arm : int\n",
    "            the positive integer arm id for this round\n",
    "        \"\"\"\n",
    "    \n",
    "    @abstractmethod\n",
    "    def update(self, arm, reward, context):\n",
    "        \"\"\"\n",
    "        Updates the internal state of the MAB after a play\n",
    "        \n",
    "        Arguments\n",
    "        =========\n",
    "        arm : int\n",
    "            a positive integer arm id in {1, ..., self.narms}\n",
    "        \n",
    "        reward : float\n",
    "            reward received from arm\n",
    "        \n",
    "        context : 1D float array, shape (self.ndims * self.narms), optional\n",
    "            context given to arms\n",
    "        \"\"\""
   ]
  },
  {
   "cell_type": "markdown",
   "metadata": {},
   "source": [
    "Input arguments checking"
   ]
  },
  {
   "cell_type": "code",
   "execution_count": 3,
   "metadata": {},
   "outputs": [],
   "source": [
    "def checkPlayInput(tround, context, narms, ndims):\n",
    "    assert isinstance(tround, np.int) and tround > 0\n",
    "    if ndims is None:\n",
    "        assert context is None or isinstance(context, np.ndarray) \\\n",
    "            and context.size % narms == 0 and context.dtype == np.float\n",
    "    else:\n",
    "        assert isinstance(ndims, np.int) and ndims > 0\n",
    "        assert context is None or isinstance(context, np.ndarray) \\\n",
    "            and context.shape == (ndims * narms, ) and context.dtype == np.float\n",
    "\n",
    "def checkUpdateInput(arm, reward, context, narms, ndims):\n",
    "    assert (isinstance(arm, np.int) or isinstance(arm, np.int32)) and arm > 0 and arm <= narms\n",
    "    assert isinstance(reward, np.float)\n",
    "    if ndims is None:\n",
    "        assert context is None or isinstance(context, np.ndarray) \\\n",
    "            and context.size % narms == 0 and context.dtype == np.float\n",
    "    else:\n",
    "        assert isinstance(ndims, np.int) and ndims > 0\n",
    "        assert context is None or isinstance(context, np.ndarray) \\\n",
    "            and context.shape == (ndims * narms, ) and context.dtype == np.float\n",
    "        "
   ]
  },
  {
   "cell_type": "markdown",
   "metadata": {},
   "source": [
    "Looking for the argmax of numpy array. If there are multiple maximum values, pick a random index."
   ]
  },
  {
   "cell_type": "code",
   "execution_count": 4,
   "metadata": {},
   "outputs": [],
   "source": [
    "def randomArgMax(value):\n",
    "    assert isinstance(value, np.ndarray) and value.ndim == 1\n",
    "    ''' All nan in array '''\n",
    "    if np.isnan(value).sum() == len(value):\n",
    "        return np.random.randint(len(value)) + 1\n",
    "    indexes = np.where(value == np.max(value))\n",
    "    return np.random.choice(indexes[0]) + 1"
   ]
  },
  {
   "cell_type": "code",
   "execution_count": 5,
   "metadata": {
    "colab": {
     "base_uri": "https://localhost:8080/",
     "height": 131
    },
    "colab_type": "code",
    "executionInfo": {
     "elapsed": 934,
     "status": "error",
     "timestamp": 1571032867848,
     "user": {
      "displayName": "杨帆",
      "photoUrl": "",
      "userId": "07701850902501518716"
     },
     "user_tz": -660
    },
    "id": "A4n94ZSDpUfQ",
    "outputId": "64eef72c-31ca-4d94-83fa-b025ade37889"
   },
   "outputs": [],
   "source": [
    "class EpsGreedy(MAB):\n",
    "    \"\"\"\n",
    "    Epsilon-Greedy multi-armed bandit\n",
    "\n",
    "    Arguments\n",
    "    =========\n",
    "    narms : int\n",
    "        number of arms\n",
    "\n",
    "    epsilon : float\n",
    "        explore probability\n",
    "\n",
    "    Q0 : float, optional\n",
    "        initial value for the arms\n",
    "    \"\"\"\n",
    "    \n",
    "    def __init__(self, narms, epsilon, Q0=np.inf):\n",
    "        assert isinstance(narms, np.int) and narms > 0\n",
    "        assert isinstance(epsilon, np.float) and epsilon >= 0 and epsilon <= 1\n",
    "        assert isinstance(Q0, np.float)\n",
    "        self.narms = narms\n",
    "        self.epsilon = epsilon\n",
    "        self.values = np.ones(narms) * Q0\n",
    "        self.counts = np.zeros(narms, dtype=np.int)\n",
    "        self.bonus = np.zeros(narms)\n",
    "        \n",
    "    def play(self, tround, context=None):\n",
    "        # Check the input \n",
    "        checkPlayInput(tround, context, self.narms, None)\n",
    "        \n",
    "        if np.random.random() < self.epsilon:\n",
    "            return np.random.randint(self.narms) + 1\n",
    "        else:\n",
    "            return randomArgMax(self.values)     \n",
    "        \n",
    "    def update(self, arm, reward, context=None):\n",
    "        # Check the input \n",
    "        checkUpdateInput(arm, reward, context, self.narms, None)\n",
    "        \n",
    "        self.counts[arm - 1] += 1\n",
    "        if self.counts[arm - 1] == 1:\n",
    "            self.values[arm - 1] = reward\n",
    "        else:\n",
    "            self.values[arm - 1] = (self.values[arm - 1] * (self.counts[arm - 1] - 1)+ reward) / self.counts[arm - 1]\n"
   ]
  },
  {
   "cell_type": "code",
   "execution_count": 6,
   "metadata": {
    "colab": {},
    "colab_type": "code",
    "id": "IlkxGmAupUfT"
   },
   "outputs": [],
   "source": [
    "class UCB(MAB):\n",
    "    \"\"\"\n",
    "    Upper Confidence Bound (UCB) multi-armed bandit\n",
    "\n",
    "    Arguments\n",
    "    =========\n",
    "    narms : int\n",
    "        number of arms\n",
    "\n",
    "    rho : float\n",
    "        positive real explore-exploit parameter\n",
    "\n",
    "    Q0 : float, optional\n",
    "        initial value for the arms\n",
    "    \"\"\"\n",
    "    \n",
    "    def __init__(self, narms, rho, Q0=np.inf):\n",
    "        assert isinstance(narms, np.int) and narms > 0\n",
    "        assert isinstance(rho, np.float) and rho > 0\n",
    "        assert isinstance(Q0, np.float)\n",
    "        self.narms = narms\n",
    "        self.rho = rho\n",
    "        self.values = np.ones(narms) * Q0\n",
    "        self.counts = np.zeros(narms, dtype=np.int)\n",
    "        \n",
    "    def play(self, tround, context=None):\n",
    "        # Check the input \n",
    "        checkPlayInput(tround, context, self.narms, None)\n",
    "        \n",
    "        np.seterr(divide='ignore', invalid='ignore')\n",
    "        qValues = self.values + np.divide(np.sqrt(self.rho * np.log(tround)), np.sqrt(self.counts))\n",
    "        return randomArgMax(qValues)\n",
    "        \n",
    "    def update(self, arm, reward, context=None):\n",
    "        # Check the input \n",
    "        checkUpdateInput(arm, reward, context, self.narms, None)\n",
    "        \n",
    "        self.counts[arm - 1] += 1\n",
    "        if self.counts[arm - 1] == 1:\n",
    "            self.values[arm - 1] = reward\n",
    "        else:\n",
    "            self.values[arm - 1] = (self.values[arm - 1] * (self.counts[arm - 1] - 1)+ reward) / float(self.counts[arm - 1])\n",
    "            "
   ]
  },
  {
   "cell_type": "markdown",
   "metadata": {
    "colab_type": "text",
    "id": "LHL5FbBzpUfV"
   },
   "source": [
    "## 2. The Basic Thompson Bandit"
   ]
  },
  {
   "cell_type": "code",
   "execution_count": 7,
   "metadata": {
    "colab": {},
    "colab_type": "code",
    "id": "ZZiKzA6hpUfW"
   },
   "outputs": [],
   "source": [
    "class BetaThompson(MAB):\n",
    "    \"\"\"\n",
    "    Beta-Bernoulli Thompson sampling multi-armed bandit\n",
    "\n",
    "    Arguments\n",
    "    =========\n",
    "    narms : int\n",
    "        number of arms\n",
    "\n",
    "    alpha0 : float, optional\n",
    "        positive real prior hyperparameter\n",
    "\n",
    "    beta0 : float, optional\n",
    "        positive real prior hyperparameter\n",
    "    \"\"\"\n",
    "    \n",
    "    def __init__(self, narms, alpha0=1.0, beta0=1.0):\n",
    "        assert isinstance(narms, np.int) and narms > 0\n",
    "        assert isinstance(alpha0, np.float) and alpha0 > 0\n",
    "        assert isinstance(beta0, np.float) and beta0 > 0\n",
    "        self.narms = narms\n",
    "        self.alpha = np.ones(narms) * alpha0\n",
    "        self.beta = np.ones(narms) * beta0\n",
    "    \n",
    "    def play(self, tround, context=None):\n",
    "        # Check the input \n",
    "        checkPlayInput(tround, context, self.narms, None)\n",
    "        \n",
    "        theta = np.array([np.random.beta(self.alpha[arm], self.beta[arm]) for arm in range(self.narms)], dtype = np.float)\n",
    "        return randomArgMax(theta)             \n",
    "        \n",
    "    def update(self, arm, reward, context=None):\n",
    "        # Check the input \n",
    "        checkUpdateInput(arm, reward, context, self.narms, None)\n",
    "        \n",
    "        if reward == 1:\n",
    "            self.alpha[arm - 1] += 1\n",
    "        else:\n",
    "            self.beta[arm - 1] += 1"
   ]
  },
  {
   "cell_type": "markdown",
   "metadata": {
    "colab_type": "text",
    "id": "CfXb42XxpUfY"
   },
   "source": [
    "## 3. Off-Policy Evaluation"
   ]
  },
  {
   "cell_type": "code",
   "execution_count": 8,
   "metadata": {
    "colab": {},
    "colab_type": "code",
    "id": "eRUd9ii-pUfY"
   },
   "outputs": [],
   "source": [
    "def offlineEvaluate(mab, arms, rewards, contexts, nrounds=None):\n",
    "    \"\"\"\n",
    "    Offline evaluation of a multi-armed bandit\n",
    "    \n",
    "    Arguments\n",
    "    =========\n",
    "    mab : instance of MAB\n",
    "    \n",
    "    arms : 1D int array, shape (nevents,) \n",
    "        integer arm id for each event\n",
    "    \n",
    "    rewards : 1D float array, shape (nevents,)\n",
    "        reward received for each event\n",
    "    \n",
    "    contexts : 2D float array, shape (nevents, mab.narms*nfeatures)\n",
    "        contexts presented to the arms (stacked horizontally) \n",
    "        for each event.\n",
    "        \n",
    "    nrounds : int, optional\n",
    "        number of matching events to evaluate `mab` on.\n",
    "    \n",
    "    Returns\n",
    "    =======\n",
    "    out : 1D float array\n",
    "        rewards for the matching events\n",
    "    \"\"\"\n",
    "    assert isinstance(mab, MAB)\n",
    "    assert isinstance(arms, np.ndarray) and arms.ndim == 1 and arms.dtype == np.int\n",
    "    assert isinstance(rewards, np.ndarray) and rewards.ndim == 1 and rewards.dtype == np.float\n",
    "    assert isinstance(contexts, np.ndarray) and contexts.ndim == 2 and contexts.dtype == np.float\n",
    "    assert nrounds is None or isinstance(nrounds, np.int) \n",
    "    \n",
    "    row = 0\n",
    "    rewardList = []\n",
    "    try:\n",
    "        for tround in range(1, nrounds + 1):\n",
    "            arm = arms[row]\n",
    "            while mab.play(tround, contexts[row]) != arm:\n",
    "                row += 1\n",
    "                arm = arms[row]\n",
    "            mab.update(arm, rewards[row], contexts[row])\n",
    "            rewardList.append(rewards[row])\n",
    "            row += 1\n",
    "    except IndexError:\n",
    "        pass\n",
    "    return np.array(rewardList, dtype = np.float)"
   ]
  },
  {
   "cell_type": "code",
   "execution_count": 9,
   "metadata": {
    "colab": {},
    "colab_type": "code",
    "id": "oZmocKBEwNM5"
   },
   "outputs": [],
   "source": [
    "data = np.loadtxt('dataset.txt', dtype = np.float)\n",
    "arms = data[:,0].astype(np.int)\n",
    "rewards = data[:,1]\n",
    "contexts = data[:,2::] "
   ]
  },
  {
   "cell_type": "code",
   "execution_count": 10,
   "metadata": {
    "colab": {},
    "colab_type": "code",
    "id": "BX9FpaUnpUfb"
   },
   "outputs": [
    {
     "name": "stdout",
     "output_type": "stream",
     "text": [
      "EpsGreedy average reward 0.265\n"
     ]
    }
   ],
   "source": [
    "mab = EpsGreedy(10, 0.05)\n",
    "results_EpsGreedy = offlineEvaluate(mab, arms, rewards, contexts, 800)\n",
    "print('EpsGreedy average reward', np.mean(results_EpsGreedy))"
   ]
  },
  {
   "cell_type": "code",
   "execution_count": 11,
   "metadata": {
    "colab": {},
    "colab_type": "code",
    "id": "vOn-ZRPXpUfd"
   },
   "outputs": [
    {
     "name": "stdout",
     "output_type": "stream",
     "text": [
      "UCB average reward 0.18375\n"
     ]
    }
   ],
   "source": [
    "mab = UCB(10, 1.0)\n",
    "results_UCB = offlineEvaluate(mab, arms, rewards, contexts, 800)\n",
    "print('UCB average reward', np.mean(results_UCB))"
   ]
  },
  {
   "cell_type": "code",
   "execution_count": 12,
   "metadata": {
    "colab": {},
    "colab_type": "code",
    "id": "e2TAGrptpUff"
   },
   "outputs": [
    {
     "name": "stdout",
     "output_type": "stream",
     "text": [
      "BetaThompson average reward 0.2175\n"
     ]
    }
   ],
   "source": [
    "mab = BetaThompson(10, 1.0, 1.0)\n",
    "results_BetaThompson = offlineEvaluate(mab, arms, rewards, contexts, 800)\n",
    "print('BetaThompson average reward', np.mean(results_BetaThompson))"
   ]
  },
  {
   "cell_type": "markdown",
   "metadata": {
    "colab_type": "text",
    "id": "1MI4e1dCpUfh"
   },
   "source": [
    "## 4. Contextual Bandits - LinUCB"
   ]
  },
  {
   "cell_type": "code",
   "execution_count": 13,
   "metadata": {
    "colab": {},
    "colab_type": "code",
    "id": "IqjuOxwspUfi"
   },
   "outputs": [],
   "source": [
    "class LinUCB(MAB):\n",
    "    \"\"\"\n",
    "    Contextual multi-armed bandit (LinUCB)\n",
    "\n",
    "    Arguments\n",
    "    =========\n",
    "    narms : int\n",
    "        number of arms\n",
    "\n",
    "    ndims : int\n",
    "        number of dimensions for each arm's context\n",
    "\n",
    "    alpha : float\n",
    "        positive real explore-exploit parameter\n",
    "    \"\"\"\n",
    "    \n",
    "    def __init__(self, narms, ndims, alpha):\n",
    "        assert isinstance(narms, np.int) and narms > 0\n",
    "        assert isinstance(ndims, np.int) and ndims > 0\n",
    "        assert isinstance(alpha, np.float) and alpha > 0\n",
    "        self.narms = narms\n",
    "        self.ndims = ndims\n",
    "        self.alpha = alpha\n",
    "        self.A = [np.identity(ndims) for arm in range(narms)]\n",
    "        self.b = [np.zeros((ndims, 1)) for arm in range(narms)]\n",
    "        \n",
    "    def play(self, tround, context):\n",
    "        # Check the input \n",
    "        checkPlayInput(tround, context, self.narms, self.ndims)\n",
    "        \n",
    "        theta = [inv(self.A[arm]) @ self.b[arm] for arm in range(self.narms)]\n",
    "        xt = context.reshape(self.narms, self.ndims, 1)\n",
    "        pt = [theta[arm].T @ xt[arm] \n",
    "              + self.alpha * np.sqrt(xt[arm].T @ inv(self.A[arm]) @ xt[arm]) \n",
    "              for arm in range(self.narms)]\n",
    "        pt = np.squeeze(np.array(pt))\n",
    "        return randomArgMax(pt) \n",
    "        \n",
    "    def update(self, arm, reward, context):\n",
    "        # Check the input \n",
    "        checkUpdateInput(arm, reward, context, self.narms, self.ndims)\n",
    "        \n",
    "        xt = context.reshape(self.narms, self.ndims, 1)\n",
    "        self.A[arm - 1] = self.A[arm - 1] + xt[arm - 1] @ xt[arm - 1].T\n",
    "        self.b[arm - 1] = self.b[arm - 1] + reward * xt[arm - 1]\n",
    "        \n",
    "    "
   ]
  },
  {
   "cell_type": "code",
   "execution_count": 14,
   "metadata": {
    "colab": {},
    "colab_type": "code",
    "id": "2b0UwSeCpUfk"
   },
   "outputs": [
    {
     "name": "stdout",
     "output_type": "stream",
     "text": [
      "LinUCB average reward 0.53\n"
     ]
    }
   ],
   "source": [
    "mab = LinUCB(10, 10, 1.0)\n",
    "results_LinUCB = offlineEvaluate(mab, arms, rewards, contexts, 800)\n",
    "print('LinUCB average reward', np.mean(results_LinUCB))"
   ]
  },
  {
   "cell_type": "markdown",
   "metadata": {
    "colab_type": "text",
    "id": "CRuyz1xRpUfm"
   },
   "source": [
    "## 5. Contextual Bandits - LinThompson"
   ]
  },
  {
   "cell_type": "code",
   "execution_count": 15,
   "metadata": {
    "colab": {},
    "colab_type": "code",
    "id": "89vv4Z9UpUfn"
   },
   "outputs": [],
   "source": [
    "class LinThompson(MAB):\n",
    "    \"\"\"\n",
    "    Contextual Thompson sampled multi-armed bandit (LinThompson)\n",
    "\n",
    "    Arguments\n",
    "    =========\n",
    "    narms : int\n",
    "        number of arms\n",
    "\n",
    "    ndims : int\n",
    "        number of dimensions for each arm's context\n",
    "\n",
    "    v : float\n",
    "        positive real explore-exploit parameter\n",
    "    \"\"\"\n",
    "    \n",
    "    def __init__(self, narms, ndims, v):\n",
    "        assert isinstance(narms, np.int) and narms > 0\n",
    "        assert isinstance(ndims, np.int) and ndims > 0\n",
    "        assert isinstance(v, np.float) and v > 0\n",
    "        \n",
    "        self.narms = narms\n",
    "        self.ndims = ndims\n",
    "        self.v = v\n",
    "        self.B = np.identity(ndims)\n",
    "        self.mu = np.zeros(ndims)\n",
    "        self.f = np.zeros(ndims)\n",
    "        \n",
    "    def play(self, tround, context):\n",
    "        # Check the input \n",
    "        checkPlayInput(tround, context, self.narms, self.ndims)\n",
    "        \n",
    "        mut = np.random.multivariate_normal(self.mu, self.v ** 2 * inv(self.B))\n",
    "        bt = context.reshape(self.narms, self.ndims)\n",
    "        value = np.squeeze(bt @ mut)\n",
    "        return randomArgMax(bt @ mut)\n",
    "    \n",
    "    def update(self, arm, reward, context):\n",
    "        # Check the input \n",
    "        checkUpdateInput(arm, reward, context, self.narms, self.ndims)\n",
    "        \n",
    "        bt = context.reshape(self.narms, self.ndims)\n",
    "        self.B += np.outer(bt[arm - 1], bt[arm - 1])\n",
    "        self.f += bt[arm - 1] * reward\n",
    "        self.mu = inv(self.B) @ self.f"
   ]
  },
  {
   "cell_type": "code",
   "execution_count": 16,
   "metadata": {
    "colab": {},
    "colab_type": "code",
    "id": "mq8S0cF4pUfp"
   },
   "outputs": [
    {
     "name": "stdout",
     "output_type": "stream",
     "text": [
      "LinThompson average reward 0.33\n"
     ]
    }
   ],
   "source": [
    "mab = LinThompson(10, 10, 1.0)\n",
    "results_LinThompson = offlineEvaluate(mab, arms, rewards, contexts, 800)\n",
    "print('LinThompson average reward', np.mean(results_LinThompson))"
   ]
  },
  {
   "cell_type": "markdown",
   "metadata": {
    "colab_type": "text",
    "id": "8LBTFZoGpUfr"
   },
   "source": [
    "## 6. Evaluation\n",
    "### 6.A."
   ]
  },
  {
   "cell_type": "code",
   "execution_count": 17,
   "metadata": {
    "colab": {},
    "colab_type": "code",
    "id": "8wVUj3H5pUfs"
   },
   "outputs": [
    {
     "data": {
      "image/png": "[encoded data removed]",
      "text/plain": [
       "<Figure size 432x288 with 1 Axes>"
      ]
     },
     "metadata": {
      "needs_background": "light"
     },
     "output_type": "display_data"
    }
   ],
   "source": [
    "for mab in ['EpsGreedy', 'UCB', 'BetaThompson', 'LinUCB', 'LinThompson']:\n",
    "    results = eval('results_' + mab)\n",
    "    tround = np.arange(1, len(results) + 1)\n",
    "    cumsum = np.cumsum(results)/tround\n",
    "    plt.plot(tround, cumsum, label=mab)\n",
    "plt.legend()\n",
    "plt.xlabel('T round')\n",
    "plt.ylabel('Reward')\n",
    "plt.show()"
   ]
  },
  {
   "cell_type": "markdown",
   "metadata": {
    "colab_type": "text",
    "id": "N3VC5oMxpUfu"
   },
   "source": [
    "### 6.B."
   ]
  },
  {
   "cell_type": "markdown",
   "metadata": {},
   "source": [
    "#### 6.B.1 Hyperparameters $\\alpha$ in LinUCB\n",
    "\n",
    "According to the paper, hyperparameters $\\alpha$ is calculated with confidence level $1 - \\delta$,  which is $$\\alpha = 1 + \\sqrt{\\frac{\\log{\\frac{2}{\\delta}}}{2}}$$\n",
    "As $\\delta$ is between 0 and 1, I generate a hundred of different $\\delta$ to get $\\alpha$ and take the rewards after 800 rounds. \n",
    "The result is as shown below."
   ]
  },
  {
   "cell_type": "code",
   "execution_count": 18,
   "metadata": {
    "colab": {},
    "colab_type": "code",
    "id": "LgKhvdjspUfu"
   },
   "outputs": [],
   "source": [
    "deltas = np.linspace(0.01, 1, 100)\n",
    "alphas = 1 + np.sqrt(np.log(2/deltas) / 2)\n",
    "reward_LinUCB = []\n",
    "for i, alpha in enumerate(alphas):\n",
    "    mab = LinUCB(10, 10, alpha)\n",
    "    reward_LinUCB.append(np.mean(offlineEvaluate(mab, arms, rewards, contexts, 800)))"
   ]
  },
  {
   "cell_type": "code",
   "execution_count": 19,
   "metadata": {},
   "outputs": [
    {
     "data": {
      "image/png": "[encoded data removed]",
      "text/plain": [
       "<Figure size 432x288 with 1 Axes>"
      ]
     },
     "metadata": {
      "needs_background": "light"
     },
     "output_type": "display_data"
    },
    {
     "name": "stdout",
     "output_type": "stream",
     "text": [
      "The optimal alpha is 1.601500784722952 and the maximum average reward is 0.41875\n"
     ]
    }
   ],
   "source": [
    "plt.plot(alphas, reward_LinUCB)\n",
    "plt.xlabel('Alpha')\n",
    "plt.ylabel('Average reward of Lin UCB')\n",
    "plt.show()\n",
    "print('The optimal alpha is', alphas[np.argmax(reward_LinUCB)], 'and the maximum average reward is', np.amax(reward_LinUCB))"
   ]
  },
  {
   "cell_type": "markdown",
   "metadata": {},
   "source": [
    "#### 6.B.1 Hyperparameters $v$ in LinThompson\n",
    "\n",
    "In paper, hyperparameters $v$ is controlled by three parameters, $\\epsilon$, $\\delta$ and $R$. $$v = R\\sqrt{\\frac{24}{\\epsilon}d\\log{\\frac{1}{\\delta}}}$$\n",
    "where d is the number of features.\n",
    "In this section, I fixed $\\delta = 0.05$, $\\epsilon = 800$ (total number of rounds to be played), so I adjust $R$ to explore optimal hyperparameters, where $R$ is from 0.1 to 99. The result is as shown below."
   ]
  },
  {
   "cell_type": "code",
   "execution_count": 20,
   "metadata": {},
   "outputs": [],
   "source": [
    "R = np.linspace(0.1, 99, 100)\n",
    "d = 10\n",
    "delta = 0.05\n",
    "epsilon = 800\n",
    "vs = R * np.sqrt(24/epsilon * d * np.log(1/delta))\n",
    "reward_LinThompson = []\n",
    "for i, v in enumerate(vs):\n",
    "    mab = LinThompson(10, 10, v)\n",
    "    reward_LinThompson.append(np.mean(offlineEvaluate(mab, arms, rewards, contexts, 800)))"
   ]
  },
  {
   "cell_type": "code",
   "execution_count": 21,
   "metadata": {},
   "outputs": [
    {
     "data": {
      "image/png": "[encoded data removed]",
      "text/plain": [
       "<Figure size 432x288 with 1 Axes>"
      ]
     },
     "metadata": {
      "needs_background": "light"
     },
     "output_type": "display_data"
    },
    {
     "name": "stdout",
     "output_type": "stream",
     "text": [
      "The optimal v is 0.09480082710958788 and the maximum average reward is 0.43375\n"
     ]
    }
   ],
   "source": [
    "plt.plot(vs, reward_LinThompson)\n",
    "plt.xlabel('v')\n",
    "plt.ylabel('Average reward of Lin Thompson')\n",
    "plt.show()\n",
    "print('The optimal v is', vs[np.argmax(reward_LinThompson)], 'and the maximum average reward is', np.amax(reward_LinThompson))"
   ]
  },
  {
   "cell_type": "markdown",
   "metadata": {},
   "source": [
    "Therefore, the smaller both $\\alpha$ and $v$ are, the better reward LinUCB and LinThompson get respectively."
   ]
  }
 ],
 "metadata": {
  "colab": {
   "collapsed_sections": [],
   "name": "proj2.ipynb",
   "provenance": []
  },
  "kernelspec": {
   "display_name": "Python 3",
   "language": "python",
   "name": "python3"
  },
  "language_info": {
   "codemirror_mode": {
    "name": "ipython",
    "version": 3
   },
   "file_extension": ".py",
   "mimetype": "text/x-python",
   "name": "python",
   "nbconvert_exporter": "python",
   "pygments_lexer": "ipython3",
   "version": "3.6.5"
  }
 },
 "nbformat": 4,
 "nbformat_minor": 1
}
